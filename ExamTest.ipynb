{
 "cells": [
  {
   "cell_type": "code",
   "execution_count": 1,
   "metadata": {
    "collapsed": false
   },
   "outputs": [],
   "source": [
    "import pandas as pd\n",
    "import numpy as np\n",
    "from math import sqrt\n",
    "import itertools as IT\n",
    "from utils import *\n",
    "from fractions import Fraction as frac\n"
   ]
  },
  {
   "cell_type": "code",
   "execution_count": 2,
   "metadata": {
    "collapsed": false
   },
   "outputs": [
    {
     "name": "stdout",
     "output_type": "stream",
     "text": [
      "0.2325581395348837 0.47619047619047616 0.5555555555555556\n"
     ]
    },
    {
     "data": {
      "text/plain": [
       "0.45080500894454384"
      ]
     },
     "execution_count": 2,
     "metadata": {},
     "output_type": "execute_result"
    }
   ],
   "source": [
    "#Q9 2011\n",
    "def density(x,K):\n",
    "    return (1/((1/K)*sum(x)))\n",
    "\n",
    "K=2\n",
    "m2=density([4.4,4.2],K)\n",
    "\n",
    "m6=density([2.1,2.1],K)\n",
    "\n",
    "m9=density([2.1,1.5],K)\n",
    "print (m2,m6,m9)\n",
    "\n",
    "ard= m2/((1/K)*sum([m6,m9]))\n",
    "ard"
   ]
  },
  {
   "cell_type": "markdown",
   "metadata": {},
   "source": [
    "Answer is B 252/559"
   ]
  },
  {
   "cell_type": "markdown",
   "metadata": {},
   "source": [
    "Q11 2011\n",
    "\n",
    "a=P(BWL=1, HT=1)=0.6\n",
    "b=P(BWL=1, HT=0)=0.08\n",
    "c=P(HT=1)=0.1\n",
    "c_hat=P(HT=0)=0.9\n",
    "\n",
    "?=P(HT=1, BWL=1)=???\n",
    "\n",
    "P(HT=1, BWL=1)=a*c/(a*c+b*c_hat)"
   ]
  },
  {
   "cell_type": "code",
   "execution_count": 3,
   "metadata": {
    "collapsed": false
   },
   "outputs": [
    {
     "data": {
      "text/plain": [
       "0.45454545454545453"
      ]
     },
     "execution_count": 3,
     "metadata": {},
     "output_type": "execute_result"
    }
   ],
   "source": [
    "a=0.6\n",
    "b=0.08\n",
    "c=0.1\n",
    "\n",
    "#Bayes\n",
    "(0.6*0.1)/(0.6*0.1+0.08*0.9)\n"
   ]
  },
  {
   "cell_type": "markdown",
   "metadata": {},
   "source": [
    "B=5/11"
   ]
  },
  {
   "cell_type": "markdown",
   "metadata": {},
   "source": [
    "Q14 2011\n",
    "\n",
    "1-nearest is very boxy\n",
    "multinomial reg has straight lines\n",
    "NN with 10 \n",
    "\n",
    "Q15 2011\n",
    "\n",
    "Bagging is with repacement\n",
    "Boosting is without replacement\n",
    "\n",
    "And they handle the distribution of data sampled differently as one keeps on adding and the other keeps on replacing\n",
    "\n",
    "Q16 2011\n",
    "no class imbalances as all the  predicted classes have the same amount of points\n",
    "\n",
    "Q17 2011\n",
    "D is wrong as decision trees are good for Discrete not Continuous\n",
    "\n",
    "Q18 2011\n",
    "Standar deviation is the squareroot of the variance which can never be more than 1/sqrt(2) for a binary variable"
   ]
  },
  {
   "cell_type": "code",
   "execution_count": 4,
   "metadata": {
    "collapsed": false
   },
   "outputs": [
    {
     "name": "stdout",
     "output_type": "stream",
     "text": [
      "0.489897948557\n"
     ]
    }
   ],
   "source": [
    "x=np.array([0,1,0,1,0])\n",
    "print(np.std(x))\n",
    "def std(x):\n",
    "    return sqrt(np.mean(abs(x - np.mean(x))**2))"
   ]
  },
  {
   "cell_type": "code",
   "execution_count": 6,
   "metadata": {
    "collapsed": false
   },
   "outputs": [
    {
     "data": {
      "text/plain": [
       "0.19999999999999998"
      ]
     },
     "execution_count": 6,
     "metadata": {},
     "output_type": "execute_result"
    }
   ],
   "source": [
    "#Q19 2011\n",
    "x=[1,0,1,0,0]\n",
    "y=[1,0,1,0,1]\n",
    "def emp_corr(x,y):\n",
    "    return (1/(len(x)-1))*sum(((x-np.mean(x))*(y-np.mean(y)))/(std(x)*std(y)))\n",
    "emp_corr(x,y)\n",
    "\n",
    "def emp_cova(x,y):\n",
    "    return  (1/(len(x)-1))*sum(((x-np.mean(x))*(y-np.mean(y))))\n",
    "emp_cova(x,y)"
   ]
  },
  {
   "cell_type": "markdown",
   "metadata": {},
   "source": [
    "Ans is D 0.2"
   ]
  },
  {
   "cell_type": "code",
   "execution_count": null,
   "metadata": {
    "collapsed": true
   },
   "outputs": [],
   "source": []
  },
  {
   "cell_type": "code",
   "execution_count": 11,
   "metadata": {
    "collapsed": false,
    "scrolled": true
   },
   "outputs": [
    {
     "name": "stdout",
     "output_type": "stream",
     "text": [
      "1.00 0.25 1.00 0.60\n",
      "     1.00 0.33 1.00\n",
      "          1.00 0.40\n",
      "               1.00\n"
     ]
    }
   ],
   "source": [
    "def jaccard(a,b):\n",
    "    if len(a) != len(b):\n",
    "        raise ValueError(\"a and b must have same length\")\n",
    "    _11 = 0\n",
    "    _not00 = 0\n",
    "    for x,y in zip(a,b):\n",
    "        if x and y:\n",
    "            _11 += 1\n",
    "            _not00 += 1\n",
    "        elif x or y:\n",
    "            _not00 += 1\n",
    "    return float(_11)/float(_not00)\n",
    "\n",
    "n1=np.array([0,0,1,0,1,0,1,0])\n",
    "n2=np.array([0,1,0,0,0,1,0,1])\n",
    "n3=np.array([1,0,1,0,1,0,1,0])\n",
    "n4=np.array([0,1,0,0,0,1,0,0])\n",
    "n5=np.array([1,0,1,1,0,0,1,0])\n",
    "\n",
    "\n",
    "def djaccard(a,b):\n",
    "    return (\"{0:.2f}\".format((1-jaccard(a,b))))\n",
    "\n",
    "#distance is 1-jaccard(x,y) complete linkage (maximum for group) \n",
    "#OBS OBS OBS DiSTANcE\n",
    "print(djaccard(n1,n2),djaccard(n1,n3),djaccard(n1,n4),djaccard(n1,n5))\n",
    "\n",
    "print('    ',djaccard(n2,n3),djaccard(n2,n4),djaccard(n2,n5))\n",
    "\n",
    "print('    ','    ',djaccard(n3,n4),djaccard(n3,n5))\n",
    "\n",
    "print('    ','    ','    ',djaccard(n4,n5))\n",
    "\n"
   ]
  },
  {
   "cell_type": "code",
   "execution_count": 95,
   "metadata": {
    "collapsed": false
   },
   "outputs": [
    {
     "data": {
      "text/plain": [
       "0.21333333333333332"
      ]
     },
     "execution_count": 95,
     "metadata": {},
     "output_type": "execute_result"
    }
   ],
   "source": [
    "#Q22 2011\n",
    "def purity_gain(parent, children, measure_method=gini):\n",
    "    \"\"\"\n",
    "    Usage: purity_gain([1,0,1,0], [[0,0],[1,1]], gini)\n",
    "    Example from Spring2011 Q2:\n",
    "        bsplit = list('s'*12 + 'w'*10 + 'c'*10 + 'u'*8) # REMEMBER to put them in a list!\n",
    "        a1 = list('s'*4 + 'w'*8 + 'c'*3 + 'u'*1)\n",
    "        a2 = list('s'*8 + 'w'*2 + 'c'*7 + 'u'*7)\n",
    "\n",
    "        purity_gain(bsplit, [a1, a2], classification_error)\n",
    "    \"\"\"\n",
    "    # break early:\n",
    "    children[0][1] # breaks if you're e.g. just passing a 1d list of chars\n",
    "    #It is the impurity of the parent minus the sum over i of \n",
    "    #   (the number of records associated with the child node i divided by the total number of records in the parent node, \n",
    "    #   multiplied by the impurity measure of the child node i)\n",
    "    pval = measure_method(parent)\n",
    "    pl = float(len(parent))\n",
    "    chvals = [measure_method(x) * len(x) / pl for x in children]\n",
    "    \n",
    "    return pval - sum(chvals)\n",
    "\n",
    "So=[0,0,1,0,1]\n",
    "# tree split with soprano as root\n",
    "# #1 -> no\n",
    "# #2 -> no\n",
    "# #3 -> yes\n",
    "# #4 -> no\n",
    "# #5 -> yes\n",
    "# v1=#1,#2,#4 -> do they belong in this branch no, yes, yes ->[0,1,1]\n",
    "# v2=#3,#5 -> yes, yes -> [1,1]\n",
    "purity_gain(So,[[0,1,1],[1,1]])\n"
   ]
  },
  {
   "cell_type": "markdown",
   "metadata": {},
   "source": [
    "Answer is B 0.21\n",
    "\n",
    "Q23 2011\n",
    "We can split the tree with one split with either Movie, Actor, Music, or Orchestra and therefore we do not need the others.\n",
    "\n",
    "Q24 2011\n",
    "Small residual error on training set is not enough evidence that function is overfitting you need error from crossval and test set aswell.\n",
    "\n",
    "Q25 2011\n",
    "Use Normal equation see 2011 sol sheet for normal eq.\n",
    "Ans is B\n",
    "\n",
    "Q26 2011\n",
    "C is incorrect\n",
    "The upper and lower edges of the box indicate the 25th and 75th percentiles, also called 1st and 3rd quartiles. Thus, the total height of the box is the inter quartile range and not the standard deviation"
   ]
  },
  {
   "cell_type": "code",
   "execution_count": 33,
   "metadata": {
    "collapsed": false
   },
   "outputs": [
    {
     "name": "stdout",
     "output_type": "stream",
     "text": [
      "2.4642857142857144 -0.5\n"
     ]
    }
   ],
   "source": [
    "#Q27 2011\n",
    "def zn(x):\n",
    "    return (x-6)/28\n",
    "print(zn(75),zn(-8))"
   ]
  },
  {
   "cell_type": "markdown",
   "metadata": {},
   "source": [
    "Q1 2016 spring\n",
    "Answer is A boxplot 2 matches with histogram 4.\n",
    "\n",
    "Q2\n"
   ]
  },
  {
   "cell_type": "code",
   "execution_count": 40,
   "metadata": {
    "collapsed": false
   },
   "outputs": [
    {
     "data": {
      "text/plain": [
       "0.11256049328125384"
      ]
     },
     "execution_count": 40,
     "metadata": {},
     "output_type": "execute_result"
    }
   ],
   "source": [
    "(53**2+42**2+3**2)/(149**2+118**2+53**2+42**2+3**2)"
   ]
  },
  {
   "cell_type": "code",
   "execution_count": 41,
   "metadata": {
    "collapsed": false
   },
   "outputs": [
    {
     "data": {
      "text/plain": [
       "0.5453853145650626"
      ]
     },
     "execution_count": 41,
     "metadata": {},
     "output_type": "execute_result"
    }
   ],
   "source": [
    "(149**2)/(149**2+118**2+53**2+42**2+3**2)"
   ]
  },
  {
   "cell_type": "code",
   "execution_count": 42,
   "metadata": {
    "collapsed": false
   },
   "outputs": [
    {
     "data": {
      "text/plain": [
       "0.04355516250276365"
      ]
     },
     "execution_count": 42,
     "metadata": {},
     "output_type": "execute_result"
    }
   ],
   "source": [
    "(42**2+3**2)/(149**2+118**2+53**2+42**2+3**2)"
   ]
  },
  {
   "cell_type": "code",
   "execution_count": 43,
   "metadata": {
    "collapsed": false
   },
   "outputs": [
    {
     "data": {
      "text/plain": [
       "0.8874395067187462"
      ]
     },
     "execution_count": 43,
     "metadata": {},
     "output_type": "execute_result"
    }
   ],
   "source": [
    "(149**2+118**2)/(149**2+118**2+53**2+42**2+3**2)"
   ]
  },
  {
   "cell_type": "markdown",
   "metadata": {},
   "source": [
    "D is correct."
   ]
  },
  {
   "cell_type": "code",
   "execution_count": 45,
   "metadata": {
    "collapsed": false
   },
   "outputs": [
    {
     "data": {
      "text/plain": [
       "-0.8"
      ]
     },
     "execution_count": 45,
     "metadata": {},
     "output_type": "execute_result"
    }
   ],
   "source": [
    "v1=-0.3-0.4-0.4-0.6-0.5\n",
    "v2=-0.5+0.6-0.4-0.1-0.4\n",
    "v2"
   ]
  },
  {
   "cell_type": "markdown",
   "metadata": {},
   "source": [
    "Q4 2016\n",
    "Check 3 nearest Neighbours and divide wrong with total\n",
    "\n",
    "b1 = b3, b5, r6\n",
    "b2 = b6, r8, r9 X\n",
    "b3 = b1, b5, r6\n",
    "b4 = b3, r7, r8 X\n",
    "b5 = b1, b3, r6\n",
    "r6 = b2, r8, r9\n",
    "r7 = b4, r8, r9\n",
    "r8 = r6, r7, r9\n",
    "r9 = r6, r7, r8\n",
    "\n",
    "2/9\n",
    "answer is B\n",
    "\n",
    "Q5 2016\n"
   ]
  },
  {
   "cell_type": "code",
   "execution_count": 57,
   "metadata": {
    "collapsed": false
   },
   "outputs": [
    {
     "name": "stdout",
     "output_type": "stream",
     "text": [
      "[4.1, 2.01, 3.75, 4.69, 3.54, 3.72, 2.23, 1.95] [4.7, 3.59, 4.48, 3.68, 4.62, 2.23, 2.03, 0.73] [4.93, 3.02, 4.64, 4.15, 4.71, 1.95, 2.73, 0.73]\n"
     ]
    },
    {
     "data": {
      "text/plain": [
       "1.2137526652452024"
      ]
     },
     "execution_count": 57,
     "metadata": {},
     "output_type": "execute_result"
    }
   ],
   "source": [
    "#Q9 2011\n",
    "def density(x,K):\n",
    "    sx=sum(x)\n",
    "    return (1/((1/K)*sx))\n",
    "\n",
    "K=2\n",
    "g6=[4.10,2.01,3.75,4.69,3.54,3.72,2.23,1.95]\n",
    "g8=[4.70,3.59,4.48,3.68,4.62,2.23,2.03,0.73]\n",
    "g9=[4.93,3.02,4.64,4.15,4.71,1.95,2.73,0.73]\n",
    "\n",
    "###\n",
    "# use the 2 nearest points in each vector\n",
    "###\n",
    "d6=density([2.01,1.95],K)\n",
    "\n",
    "d8=density([2.03,0.73],K)\n",
    "\n",
    "d9=density([1.95,0.73],K)\n",
    "print (g6,g8,g9)\n",
    "\n",
    "ard = d9/((1/K)*(d6+d8))\n",
    "ard"
   ]
  },
  {
   "cell_type": "code",
   "execution_count": 80,
   "metadata": {
    "collapsed": false
   },
   "outputs": [],
   "source": [
    "o1=[4.84,0.50,4.11,1.07,4.10,4.71,4.70,4.93]\n",
    "o2=np.matrix([4.84,4.40,5.96,4.12,2.01,5.36,3.59,3.02])\n",
    "o3=np.matrix([0.50,4.40,4.07,0.72,3.75,4.66,4.48,4.64])\n",
    "o4=[4.11,5.96,4.07,4.48,4.69,2.44,3.68,4.15]\n",
    "o5=[1.07,4.12,0.72,4.48,3.54,4.96,4.62,4.71]\n",
    "o6=[4.10,2.01,3.75,4.69,3.54,3.72,2.23,1.95]\n",
    "o8=[4.70,3.59,4.48,3.68,4.62,2.23,2.03,0.73]\n",
    "o9=[4.93,3.02,4.64,4.15,4.71,1.95,2.73,0.73]"
   ]
  },
  {
   "cell_type": "code",
   "execution_count": 206,
   "metadata": {
    "collapsed": false
   },
   "outputs": [
    {
     "data": {
      "text/plain": [
       "-0.8665638766519826"
      ]
     },
     "execution_count": 206,
     "metadata": {},
     "output_type": "execute_result"
    }
   ],
   "source": [
    "##### Q8 2016\n",
    "# (||x||22+||y||22 - o2To3)/2\n",
    "# (x^2+y^2-d(x,y)) / 2\n",
    "# d(x,y) look it up in the table\n",
    "# # xTy=(x^2+y^2-d(x,y)^2) / 2 ####\n",
    "#####\n",
    "xty =(3.04**2+1.5**2-(4.4)**2)/2\n",
    "\n",
    "xty/(3.04+1.5)\n"
   ]
  },
  {
   "cell_type": "code",
   "execution_count": 124,
   "metadata": {
    "collapsed": false
   },
   "outputs": [
    {
     "name": "stdout",
     "output_type": "stream",
     "text": [
      "0.211987026488\n",
      "-0.117536897399\n"
     ]
    }
   ],
   "source": [
    "s11=45/46\n",
    "s12=66/113\n",
    "s13=33/41\n",
    "bsplit = list('o'*100 + 'u'*200) # REMEMBER to put them in a list!\n",
    "a1 = list('o'*1 + 'u'*45)\n",
    "a2 = list('o'*66 + 'u'*47)\n",
    "a3 = list('o'*33 + 'u'*8)\n",
    "print(purity_gain(bsplit, [a1, a2, a3]))\n",
    "\n",
    "\n",
    "\n",
    "s21=76/96\n",
    "s22=16/63\n",
    "s32=8/41\n",
    "bsplit = list('o'*100 + 'u'*100) # REMEMBER to put them in a list!\n",
    "a1 = list('o'*20 + 'u'*96)\n",
    "a2 = list('o'*47 + 'u'*63)\n",
    "a3 = list('o'*33 + 'u'*41)\n",
    "print(purity_gain(bsplit, [a1, a2, a3]))\n",
    "\n",
    "\n",
    "s31=25/25\n",
    "s32=55/78\n",
    "s33=20/97\n",
    "####\n",
    "# delta= I(p)= sum()\n",
    "# class error -> maxpurity\n",
    "# I0 - first rule total / N(1-maxpurity)\n",
    "# look in da answers....? see page 117 in the book\n",
    "# Ans is D\n",
    "#"
   ]
  },
  {
   "cell_type": "markdown",
   "metadata": {},
   "source": [
    "Q10 2016\n",
    "a=P(f1=0, y=1)=2/5 \n",
    "b=P(f2=1, y=1)=2/5\n",
    "c=P(f3=1, y=1)=5/5\n",
    "d=P(y=1)=5/11\n",
    "\n",
    "a_=P(f1=0, y=0)=2/6 \n",
    "b_=P(f2=1, y=0)=2/6\n",
    "c_=P(f3=1, y=0)=2/6\n",
    "d_=P(HT=0)=6/11\n",
    "\n",
    "?=P(f1=0, f2=1, f3=1)=???\n",
    "P(HT=1, BWL=1)=ac/(ac+b*c_hat)\n",
    "In [3]:"
   ]
  },
  {
   "cell_type": "code",
   "execution_count": 131,
   "metadata": {
    "collapsed": false
   },
   "outputs": [
    {
     "data": {
      "text/plain": [
       "0.782608695652174"
      ]
     },
     "execution_count": 131,
     "metadata": {},
     "output_type": "execute_result"
    }
   ],
   "source": [
    "\n",
    "a=2/5\n",
    "b=2/5\n",
    "c=5/5\n",
    "d=5/11\n",
    "\n",
    "ah=1/3\n",
    "bh=1/3\n",
    "ch=1/3\n",
    "dh=6/11\n",
    "\n",
    "#Bayes\n",
    "((a*b*c*d)/(a*b*c*d+ah*bh*ch*dh))\n"
   ]
  },
  {
   "cell_type": "markdown",
   "metadata": {},
   "source": [
    "Q11 2016\n",
    "A\n",
    "f1   7/11\n",
    "f2   7/11\n",
    "f3   6/11\n",
    "f4   6/11\n",
    "B\n",
    "f1f4 5/11\n",
    "C\n",
    "f1f5 5/11\n",
    "f4f5 4/11\n",
    "D\n",
    "f1f3 3/11 \n",
    ".. no need to continue needs to be 4/11 or above"
   ]
  },
  {
   "cell_type": "code",
   "execution_count": 141,
   "metadata": {
    "collapsed": false
   },
   "outputs": [
    {
     "name": "stdout",
     "output_type": "stream",
     "text": [
      "0.6666666666666667 0.7499999999999999 0.6 0.5\n"
     ]
    }
   ],
   "source": [
    "A=(2/11)/(3/11)\n",
    "B=(3/11)/(4/11)\n",
    "C=(3/11)/(5/11)\n",
    "D=(1/11)/(2/11)\n",
    "\n",
    "print(A,B,C,D)\n",
    "##\n",
    "#answer is B\n",
    "#"
   ]
  },
  {
   "cell_type": "code",
   "execution_count": 147,
   "metadata": {
    "collapsed": false
   },
   "outputs": [
    {
     "name": "stdout",
     "output_type": "stream",
     "text": [
      "0.57735026919 > 0.6\n",
      "0.57735026919 > 0.408248290464\n",
      "0.25 > 0.6\n",
      "0.25 > 0.57735026919\n"
     ]
    }
   ],
   "source": [
    "def ja(a,b):\n",
    "    if len(a) != len(b):\n",
    "        raise ValueError(\"a and b must have same length\")\n",
    "    _11 = 0\n",
    "    _not00 = 0\n",
    "    for x,y in zip(a,b):\n",
    "        if x and y:\n",
    "            _11 += 1\n",
    "            _not00 += 1\n",
    "        elif x or y:\n",
    "            _not00 += 1\n",
    "    return float(_11)/float(_not00)\n",
    "\n",
    "def cs(a,b):\n",
    "    if len(a) != len(b):\n",
    "        raise ValueError(\"a and b must have same length\")\n",
    "    dp = dot(a,b)\n",
    "    eLenA = euclidian_length(a)\n",
    "    eLenB = euclidian_length(b)\n",
    "\n",
    "    return dp / (eLenA * eLenB)\n",
    "\n",
    "def smc(a,b):\n",
    "    if len(a) != len(b):\n",
    "        raise ValueError(\"a and b must have same length\")\n",
    "    matching = 0\n",
    "    for x,y in zip(a,b):\n",
    "        if x == y:\n",
    "            matching += 1\n",
    "       \n",
    "    return float(matching)/len(a)\n",
    "\n",
    "o1=[0, 1, 1, 0, 1]\n",
    "o2=[0, 0, 1, 0, 0]\n",
    "o3=[1, 0, 0, 0, 1]\n",
    "\n",
    "print(cs(o1,o2),'>',smc(o1,o2))\n",
    "print(cs(o1,o2),'>',cs(o1,o3))\n",
    "print(ja(o1,o3),'>',smc(o1,o2))\n",
    "print(ja(o1,o3),'>',cs(o1,o2))"
   ]
  },
  {
   "cell_type": "markdown",
   "metadata": {},
   "source": [
    "A=g1\n",
    "B=g2\n",
    "C=y\n",
    "\n",
    "P(B=1,A=1|C=1)=0.5\n",
    "P(B=1,A=0|C=1)=0.03\n",
    "\n",
    "\n",
    "P(B|C)=P(AB|C) + P(A_B|C)"
   ]
  },
  {
   "cell_type": "code",
   "execution_count": 152,
   "metadata": {
    "collapsed": false
   },
   "outputs": [
    {
     "data": {
      "text/plain": [
       "0.53"
      ]
     },
     "execution_count": 152,
     "metadata": {},
     "output_type": "execute_result"
    }
   ],
   "source": [
    "0.5+0.03"
   ]
  },
  {
   "cell_type": "markdown",
   "metadata": {
    "collapsed": true
   },
   "source": [
    "Q17 2016\n",
    "A\n",
    "\n",
    "Q18\n",
    "D\n",
    "\n",
    "Q19\n",
    "Kig på side 76 i bogen (pray)\n",
    "Svar er D\n",
    "\n",
    "Look at the distributions and assign probs\n",
    "blue = 0.05\n",
    "orange=0.25"
   ]
  },
  {
   "cell_type": "code",
   "execution_count": 154,
   "metadata": {
    "collapsed": false
   },
   "outputs": [
    {
     "data": {
      "text/plain": [
       "0.16666666666666669"
      ]
     },
     "execution_count": 154,
     "metadata": {},
     "output_type": "execute_result"
    }
   ],
   "source": [
    "0.05/(0.05+0.25)"
   ]
  },
  {
   "cell_type": "code",
   "execution_count": 157,
   "metadata": {
    "collapsed": false
   },
   "outputs": [
    {
     "name": "stdout",
     "output_type": "stream",
     "text": [
      "[[-1]] [[1]] [[-1]]\n"
     ]
    }
   ],
   "source": [
    "x=np.matrix([0,1])\n",
    "[1,1]\n"
   ]
  },
  {
   "cell_type": "markdown",
   "metadata": {},
   "source": [
    "   1   3   4   6   7   8   13   15   16   17\n",
    "A  (1.5)   (  5.6  )   (      13      )  (17)\n",
    "B (1)  (  4.6  )   (7.5)   (   14.6   )  (17)\n",
    "C (  2.6   )   (   7   )    (     15.2      )     \n",
    "D (  2.6   )   (6.5)   (10.5)  (15)  ( 16.5 )\n",
    "\n",
    "Clearly we can see that C is correct... the numbers fit best with the means in parentehehrehtheh"
   ]
  },
  {
   "cell_type": "markdown",
   "metadata": {},
   "source": [
    "Q26 2016\n",
    "      _______\n",
    "|    |\n",
    "|____|\n",
    "|\n",
    "|  ¯\\_(ツ)_/¯\n",
    "|\n",
    "|____________   \n",
    "\n",
    "\n",
    "First calc TPR and FPR\n",
    "\n",
    "TPR=TP/(TP+FN) = 2/3\n",
    "FPR=FP/(FP+TN) = 1/3\n",
    "\n",
    "go up 2/3rds first then right 1/3 then up the rest of the way and then take the area under the graph.\n",
    "== 8/9"
   ]
  },
  {
   "cell_type": "code",
   "execution_count": 172,
   "metadata": {
    "collapsed": false
   },
   "outputs": [
    {
     "data": {
      "text/plain": [
       "0.8888888888888888"
      ]
     },
     "execution_count": 172,
     "metadata": {},
     "output_type": "execute_result"
    }
   ],
   "source": [
    "(2/3)*(1/3)+(2/3)*1"
   ]
  },
  {
   "cell_type": "markdown",
   "metadata": {},
   "source": [
    "\n",
    "Use the formula\n",
    "K1(K2*L + 1)\n",
    "\n",
    "Where K1 is the outer kfold k2 inner L is the amount of pruning levels and then add 1 for computation of generalization.\n",
    "answer is C."
   ]
  },
  {
   "cell_type": "code",
   "execution_count": 174,
   "metadata": {
    "collapsed": false
   },
   "outputs": [
    {
     "name": "stdout",
     "output_type": "stream",
     "text": [
      "96\n",
      "102\n",
      "98\n",
      "112\n"
     ]
    }
   ],
   "source": [
    "print(6*(5*3+1))\n",
    "print(3*(11*3+1))\n",
    "print(14*(2*3+1))\n",
    "print(4*(9*3+1))"
   ]
  },
  {
   "cell_type": "markdown",
   "metadata": {},
   "source": [
    "### 2015\n",
    "Q1\n",
    "C\n",
    "Kig i solutions\n",
    "\n",
    "Q2\n"
   ]
  },
  {
   "cell_type": "code",
   "execution_count": 177,
   "metadata": {
    "collapsed": false
   },
   "outputs": [
    {
     "data": {
      "text/plain": [
       "0.6507024265644955"
      ]
     },
     "execution_count": 177,
     "metadata": {},
     "output_type": "execute_result"
    }
   ],
   "source": [
    "all=25**2+23**2+22**2+20**2+18**2+17**2+16**2+15**2\n",
    "##A\n",
    "(25**2+23**2+22**2+20**2)/all\n",
    "#wronk"
   ]
  },
  {
   "cell_type": "markdown",
   "metadata": {},
   "source": [
    "B correct 8 pca a vector is downward so pca2 is\n",
    "pca2=[-0.6, 0.2, 0.0, 0.6, -0.1, 0.4, -0.1, 0.3]\n",
    "\n",
    "C is wrong as we cannot say anything bout projec on pca"
   ]
  },
  {
   "cell_type": "code",
   "execution_count": 179,
   "metadata": {
    "collapsed": false
   },
   "outputs": [
    {
     "data": {
      "text/plain": [
       "0.24584929757343552"
      ]
     },
     "execution_count": 179,
     "metadata": {},
     "output_type": "execute_result"
    }
   ],
   "source": [
    "##D\n",
    "(17**2+16**2+15**2)/all\n",
    "#wronk"
   ]
  },
  {
   "cell_type": "markdown",
   "metadata": {},
   "source": [
    "Q3\n",
    "\n",
    "o1->o7 X\n",
    "o2->o3\n",
    "o3->o3\n",
    "\n",
    "o4->o5\n",
    "o5->o4\n",
    "o6->o8 X\n",
    "\n",
    "o7->o1 X\n",
    "o8->o6 X\n",
    "o9->o8 \n",
    "\n",
    "4/9 so B is corrext\n",
    "\n",
    "Q4\n",
    "Look at solutions. remember that right part needs to be squared and left part needs the amount of components multiplied to it.\n",
    "\n",
    "Q5"
   ]
  },
  {
   "cell_type": "code",
   "execution_count": 181,
   "metadata": {
    "collapsed": false
   },
   "outputs": [
    {
     "data": {
      "text/plain": [
       "0.8679411110075389"
      ]
     },
     "execution_count": 181,
     "metadata": {},
     "output_type": "execute_result"
    }
   ],
   "source": [
    "#Q5 2015\n",
    "def density(x,K):\n",
    "    sx=sum(x)\n",
    "    return (1/((1/K)*sx))\n",
    "\n",
    "K=2\n",
    "###\n",
    "# use the 2 nearest points in each vector\n",
    "###\n",
    "d1=density([2.18,3.29],K)\n",
    "\n",
    "d7=density([2.18,3.15],K)\n",
    "\n",
    "d8=density([1.29,2.99],K)\n",
    "\n",
    "ard = d1/((1/K)*(d8+d7))\n",
    "ard"
   ]
  },
  {
   "cell_type": "markdown",
   "metadata": {},
   "source": [
    "Q6\n",
    "dist\n",
    "o4,5------> 1.21\n",
    "o6,8------> 1.29\n",
    "o4,5,6,8--> 1.121\n",
    "o1,7------> 2.18\n",
    "o2,3------> 2.19\n",
    "o1,7,2,3--> "
   ]
  },
  {
   "cell_type": "code",
   "execution_count": 195,
   "metadata": {
    "collapsed": false
   },
   "outputs": [
    {
     "data": {
      "text/plain": [
       "0.008912532490057282"
      ]
     },
     "execution_count": 195,
     "metadata": {},
     "output_type": "execute_result"
    }
   ],
   "source": [
    "## Q7  not correct check solutions\n",
    "o1=[0.00, 3.85, 4.51, 4.39, 4.08, 3.97, 2.18, 3.29, 5.48]\n",
    "o2=[3.85, 0.00, 2.19, 3.46, 3.66, 3.93, 3.15, 3.47, 4.11]\n",
    "o3=[4.51, 2.19, 0.00, 3.70, 4.30, 4.83, 3.86, 4.48, 4.19]\n",
    "o4=[4.39, 3.46, 3.70, 0.00, 1.21, 3.09, 4.12, 3.22, 3.72]\n",
    "w1=0.2\n",
    "w2=0.8\n",
    "\n",
    "fe=(w1*np.exp((-(4.51)**2)/2))\n",
    "te=fe+w2*np.exp((-(3.70)**2)/2)\n",
    "fe/te"
   ]
  },
  {
   "cell_type": "code",
   "execution_count": null,
   "metadata": {
    "collapsed": true
   },
   "outputs": [],
   "source": [
    "##### Q8 2016\n",
    "# (||x||22+||y||22 - o2To3)/2\n",
    "# xTy=(x^2+y^2-d(x,y)^2) / 2 ####\n",
    "# d(x,y) look it up in the table\n",
    "#\n",
    "#####\n",
    "tmp=3.04**2+1.5**2-(4.4)**2\n",
    "print(tmp/2)\n"
   ]
  },
  {
   "cell_type": "code",
   "execution_count": 203,
   "metadata": {
    "collapsed": false
   },
   "outputs": [
    {
     "data": {
      "text/plain": [
       "-0.026837361708613124"
      ]
     },
     "execution_count": 203,
     "metadata": {},
     "output_type": "execute_result"
    }
   ],
   "source": [
    "# Q8\n",
    "xty=(2.99**2+2.26**2-3.85**2)/2\n",
    "xty/(2.99**2+2.26**2-xty)"
   ]
  },
  {
   "cell_type": "code",
   "execution_count": 214,
   "metadata": {
    "collapsed": false
   },
   "outputs": [
    {
     "name": "stdout",
     "output_type": "stream",
     "text": [
      "0.00497063644952\n"
     ]
    }
   ],
   "source": [
    "# Q9\n",
    "bsplit = list('o'*(55+75) +'u'*(44+59) +'c'*(88+74)) # REMEMBER to put them in a list!\n",
    "a1 = list('o'*55 + 'u'*44 + 'c'*88)\n",
    "a2 = list('o'*75 + 'u'*59 + 'c'*74)\n",
    "print(purity_gain(bsplit, [a1, a2]))"
   ]
  },
  {
   "cell_type": "markdown",
   "metadata": {},
   "source": [
    "Q10\n",
    "\n",
    "a1=P(C1|f1=1)=1\n",
    "a2=P(C2|f1=1)=2/3\n",
    "a3=P(C3|f1=1)=1/3\n",
    "b1=P(C1|f1=0)=1/3\n",
    "b2=P(C2|f1=0)=2/3\n",
    "b3=P(C3|f1=0)=1/3\n",
    "c=P(C3)=1/3\n",
    "ch=p(c3)=2/3\n",
    "\n"
   ]
  },
  {
   "cell_type": "code",
   "execution_count": 220,
   "metadata": {
    "collapsed": false
   },
   "outputs": [
    {
     "data": {
      "text/plain": [
       "0.125"
      ]
     },
     "execution_count": 220,
     "metadata": {},
     "output_type": "execute_result"
    }
   ],
   "source": [
    "a1=1\n",
    "a2=2/3\n",
    "a3=1/3\n",
    "\n",
    "b1=1/3\n",
    "b2=2/3\n",
    "b3=1/3\n",
    "\n",
    "c=1/3\n",
    "ch=2/3\n",
    "\n",
    "el3=(a3*b3*c)\n",
    "el3/(el3+a1*b1*c+a2*b2*c)"
   ]
  },
  {
   "cell_type": "code",
   "execution_count": 213,
   "metadata": {
    "collapsed": false
   },
   "outputs": [
    {
     "name": "stdout",
     "output_type": "stream",
     "text": [
      "-2.8 > 2?\n",
      "-0.8  >= 0.5?\n",
      "1.2  > 2,25?\n"
     ]
    }
   ],
   "source": [
    "##Q17\n",
    "# [1,0]\n",
    "#\n",
    "\n",
    "x=np.array([-0.4,-0.4])\n",
    "#A\n",
    "print(sum(x-[1,1]),'> 2?')\n",
    "#B\n",
    "print(sum(x),' >= 0.5?')\n",
    "#c\n",
    "print(sum(x-[-1,-1]),' > 2,25?')"
   ]
  },
  {
   "cell_type": "markdown",
   "metadata": {},
   "source": [
    "Q 19\n",
    "B is correct look at it!\n",
    "\n",
    "Q 20\n",
    "Options C and D can be ruled out\n",
    "because the densities cannot be weighted equally in\n",
    "the true mixture distribution. Then simply recall a\n",
    "covariance matrix with negative off-diagonal elements\n",
    "(such as Σ1) corresponds to a density slanted in the\n",
    "top-left to the bottom-right direction."
   ]
  }
 ],
 "metadata": {
  "kernelspec": {
   "display_name": "Python 3",
   "language": "python",
   "name": "python3"
  },
  "language_info": {
   "codemirror_mode": {
    "name": "ipython",
    "version": 3
   },
   "file_extension": ".py",
   "mimetype": "text/x-python",
   "name": "python",
   "nbconvert_exporter": "python",
   "pygments_lexer": "ipython3",
   "version": "3.5.2"
  }
 },
 "nbformat": 4,
 "nbformat_minor": 2
}
